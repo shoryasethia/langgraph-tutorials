{
 "cells": [
  {
   "cell_type": "code",
   "execution_count": 3,
   "id": "7311d272",
   "metadata": {},
   "outputs": [
    {
     "data": {
      "text/plain": [
       "True"
      ]
     },
     "execution_count": 3,
     "metadata": {},
     "output_type": "execute_result"
    }
   ],
   "source": [
    "from typing import TypedDict\n",
    "from langgraph.graph import StateGraph, START, END\n",
    "from langchain_core.messages import HumanMessage, AIMessage\n",
    "from dotenv import load_dotenv\n",
    "import os\n",
    "import getpass\n",
    "\n",
    "load_dotenv()"
   ]
  },
  {
   "cell_type": "code",
   "execution_count": 2,
   "id": "9645faf3",
   "metadata": {},
   "outputs": [],
   "source": [
    "if \"GOOGLE_API_KEY\" not in os.environ:\n",
    "    os.environ[\"GOOGLE_API_KEY\"] = getpass.getpass(\"Enter your Google AI API key: \")"
   ]
  },
  {
   "cell_type": "code",
   "execution_count": 3,
   "id": "8ebaf72e",
   "metadata": {},
   "outputs": [],
   "source": [
    "from langchain_google_genai import ChatGoogleGenerativeAI\n",
    "llm = ChatGoogleGenerativeAI(model = \"gemini-2.5-flash-preview-05-20\")"
   ]
  },
  {
   "cell_type": "code",
   "execution_count": 4,
   "id": "8b10185e",
   "metadata": {},
   "outputs": [],
   "source": [
    "class AgentState(TypedDict):\n",
    "  messages: list[HumanMessage | AIMessage]"
   ]
  },
  {
   "cell_type": "code",
   "execution_count": 5,
   "id": "82f00ad9",
   "metadata": {},
   "outputs": [],
   "source": [
    "def chat_node(state:AgentState) -> AgentState:\n",
    "  response = llm.invoke(state['messages'])\n",
    "  state['messages'].append(AIMessage(content=response.content))\n",
    "  print(f\"AI: {response.content}\\n\")\n",
    "  return state"
   ]
  },
  {
   "cell_type": "code",
   "execution_count": 6,
   "id": "c2e988e2",
   "metadata": {},
   "outputs": [],
   "source": [
    "graph = StateGraph(state_schema=AgentState)\n",
    "graph.add_node(\"chatbot\",chat_node)\n",
    "graph.add_edge(START,\"chatbot\")\n",
    "graph.add_edge(\"chatbot\",END)\n",
    "\n",
    "agent = graph.compile()"
   ]
  },
  {
   "cell_type": "code",
   "execution_count": 7,
   "id": "65014bd9",
   "metadata": {},
   "outputs": [
    {
     "data": {
      "image/png": "[encoded data removed]",
      "text/plain": [
       "<langgraph.graph.state.CompiledStateGraph object at 0x000001D7BDC72510>"
      ]
     },
     "execution_count": 7,
     "metadata": {},
     "output_type": "execute_result"
    }
   ],
   "source": [
    "agent"
   ]
  },
  {
   "cell_type": "code",
   "execution_count": 7,
   "id": "890d0ee8",
   "metadata": {},
   "outputs": [],
   "source": [
    "conversation_history = []"
   ]
  },
  {
   "cell_type": "code",
   "execution_count": null,
   "id": "f9e7769c",
   "metadata": {},
   "outputs": [],
   "source": [
    "current_speaker = None\n",
    "current_content = []\n",
    "\n",
    "with open(\"conversation_history.txt\", \"r\") as f:\n",
    "    for line in f:\n",
    "        line = line.strip()\n",
    "        if line.startswith(\"You: \"):\n",
    "            # Save the previous message before starting a new one\n",
    "            if current_speaker == \"You\" and current_content:\n",
    "                conversation_history.append(HumanMessage(content=\"\\n\".join(current_content)))\n",
    "            elif current_speaker == \"AI\" and current_content:\n",
    "                conversation_history.append(AIMessage(content=\"\\n\".join(current_content)))\n",
    "            \n",
    "            current_speaker = \"You\"\n",
    "            current_content = [line[len(\"You: \"):]]\n",
    "        \n",
    "        elif line.startswith(\"AI: \"):\n",
    "            if current_speaker == \"You\" and current_content:\n",
    "                conversation_history.append(HumanMessage(content=\"\\n\".join(current_content)))\n",
    "            elif current_speaker == \"AI\" and current_content:\n",
    "                conversation_history.append(AIMessage(content=\"\\n\".join(current_content)))\n",
    "            \n",
    "            current_speaker = \"AI\"\n",
    "            current_content = [line[len(\"AI: \"):]]\n",
    "        \n",
    "        else:\n",
    "            # Line is part of the current message\n",
    "            current_content.append(line)\n",
    "\n",
    "# Don't forget to append the last message\n",
    "if current_speaker == \"You\" and current_content:\n",
    "    conversation_history.append(HumanMessage(content=\"\\n\".join(current_content)))\n",
    "elif current_speaker == \"AI\" and current_content:\n",
    "    conversation_history.append(AIMessage(content=\"\\n\".join(current_content)))"
   ]
  },
  {
   "cell_type": "code",
   "execution_count": 9,
   "id": "9587c2bd",
   "metadata": {},
   "outputs": [
    {
     "data": {
      "text/plain": [
       "[HumanMessage(content='Hi, I am Shorya', additional_kwargs={}, response_metadata={}),\n",
       " AIMessage(content=\"Hello Shorya! Nice to meet you.\\n\\nI'm an AI assistant. How can I help you today?\", additional_kwargs={}, response_metadata={}),\n",
       " HumanMessage(content='Hmm, I am learning langgraph, using gemini as an LLM client, how can i add an systemt prompt to it?', additional_kwargs={}, response_metadata={}),\n",
       " AIMessage(content='That\\'s a great question, and it\\'s a common pattern when building agents with LangGraph!\\n\\nWhen using Gemini via LangChain (which LangGraph leverages), you add a system prompt by including a `SystemMessage` object at the beginning of the list of messages you pass to the LLM.\\n\\nHere\\'s how you can do it within a LangGraph node:\\n\\n### Core Concept: The `SystemMessage`\\n\\nLangChain\\'s message types (which Gemini understands) include:\\n*   `HumanMessage`: For user input.\\n*   `AIMessage`: For AI responses.\\n*   `SystemMessage`: For instructions, persona, or context that guides the AI\\'s behavior.\\n\\nYou pass a list of these messages to your LLM. The `SystemMessage` should typically be the first message in the list.\\n\\n### Example Implementation\\n\\nLet\\'s set up a simple LangGraph with a node that calls Gemini and adds a system prompt.\\n\\nFirst, make sure you have the necessary libraries installed:\\n```bash\\npip install -U langgraph langchain_google_genai langchain\\n```\\n\\nAnd set your Google API key:\\n```python\\nimport os\\nos.environ[\"GOOGLE_API_KEY\"] = \"YOUR_GEMINI_API_KEY\"\\n```\\n\\nNow, the LangGraph code:\\n\\n```python\\nfrom typing import TypedDict, List\\nfrom langchain_core.messages import BaseMessage, HumanMessage, AIMessage, SystemMessage\\nfrom langchain_google_genai import ChatGoogleGenerativeAI\\nfrom langgraph.graph import StateGraph, END\\n\\n# 1. Define the Graph State\\n# This defines what data will flow through your graph.\\n# We need a list of messages to maintain conversation history.\\nclass AgentState(TypedDict):\\nmessages: List[BaseMessage]\\n\\n# 2. Initialize your LLM\\nllm = ChatGoogleGenerativeAI(model=\"gemini-pro\")\\n\\n# 3. Define the System Prompt\\n# This is the instruction you want to give to Gemini.\\nSYSTEM_PROMPT_TEXT = \"You are a helpful and very concise assistant. Always provide short answers, preferably one sentence.\"\\n\\n# 4. Define the LLM Node Function\\n# This function will be a node in your LangGraph.\\n# It takes the current state, adds the system prompt, calls the LLM, and returns the AI\\'s response.\\ndef call_llm(state: AgentState) -> dict:\\nprint(\"---CALLING LLM NODE---\")\\nmessages = state[\\'messages\\']\\n\\n# Prepend the SystemMessage to the list of messages\\n# This is the key step!\\nmessages_with_system_prompt = [SystemMessage(content=SYSTEM_PROMPT_TEXT)] + messages\\n\\n# Invoke the LLM with the combined messages\\nresponse = llm.invoke(messages_with_system_prompt)\\n\\n# Return the AI\\'s response to update the state\\nreturn {\"messages\": [response]}\\n\\n# 5. Build the LangGraph\\nworkflow = StateGraph(AgentState)\\n\\n# Add the LLM node\\nworkflow.add_node(\"llm_node\", call_llm)\\n\\n# Set the entry point of the graph\\nworkflow.set_entry_point(\"llm_node\")\\n\\n# Define the edge from the LLM node to the end of the graph\\nworkflow.add_edge(\"llm_node\", END)\\n\\n# Compile the graph\\napp = workflow.compile()\\n\\n# 6. Run the Graph\\nprint(\"\\\\n---RUN 1: Normal Question---\")\\ninputs1 = {\"messages\": [HumanMessage(content=\"What is the capital of France?\")]}\\nfor s in app.stream(inputs1):\\nprint(s)\\n# Expected: \"Paris.\" (or similar concise answer due to system prompt)\\n\\nprint(\"\\\\n---RUN 2: Question where conciseness matters---\")\\ninputs2 = {\"messages\": [HumanMessage(content=\"Tell me about the history of the internet.\")]}\\nfor s in app.stream(inputs2):\\nprint(s)\\n# Expected: A very short summary, not a long paragraph, due to the system prompt.\\n```\\n\\n### Explanation of the Key Part:\\n\\n```python\\nmessages = state[\\'messages\\']\\n# Prepend the SystemMessage to the list of messages\\nmessages_with_system_prompt = [SystemMessage(content=SYSTEM_PROMPT_TEXT)] + messages\\nresponse = llm.invoke(messages_with_system_prompt)\\n```\\n\\n1.  We retrieve the existing `messages` from the current `state`. These `messages` typically contain the `HumanMessage` from the user and any previous `AIMessage`s if it\\'s a multi-turn conversation.\\n2.  We create a `SystemMessage` instance using our defined `SYSTEM_PROMPT_TEXT`.\\n3.  We then *prepend* this `SystemMessage` to the `messages` list using `[SystemMessage(...)] + messages`. This ensures the system instruction is the very first thing Gemini \"sees\" when processing the prompt.\\n4.  Finally, `llm.invoke()` is called with this new list of messages, incorporating the system prompt.\\n\\n### Advanced Considerations:\\n\\n*   **Dynamic System Prompts:** If your system prompt needs to change based on the user\\'s intent or previous turns, you could store the system prompt text in your `AgentState` and modify it with a preceding node.\\n```python\\nclass AgentState(TypedDict):\\nmessages: List[BaseMessage]\\nsystem_prompt: str # Add this\\n\\n# In your initial state:\\ninitial_state = {\"messages\": [HumanMessage(content=\"What is the capital of France?\")], \"system_prompt\": \"You are a helpful assistant.\"}\\n\\n# In your call_llm node:\\ndef call_llm(state: AgentState) -> dict:\\nmessages = state[\\'messages\\']\\ncurrent_system_prompt = state.get(\\'system_prompt\\', \"You are a general AI assistant.\") # Fallback\\nmessages_with_system_prompt = [SystemMessage(content=current_system_prompt)] + messages\\n# ... rest of the code\\n```\\n*   **Multiple LLM Nodes:** If you have different LLM nodes for different tasks within your graph, each can have its own specific system prompt tailored to its function.\\n*   **LangChain Expression Language (LCEL):** For more complex prompt engineering (e.g., using `ChatPromptTemplate` with variables), you can compose your prompt chain using LCEL before passing it to the LLM. However, for just adding a static system prompt, the direct `SystemMessage` approach is often sufficient and clear.\\n\\nThis method gives you precise control over the initial instructions given to your Gemini model within your LangGraph application.', additional_kwargs={}, response_metadata={})]"
      ]
     },
     "execution_count": 9,
     "metadata": {},
     "output_type": "execute_result"
    }
   ],
   "source": [
    "conversation_history"
   ]
  },
  {
   "cell_type": "code",
   "execution_count": 14,
   "id": "142b594d",
   "metadata": {},
   "outputs": [
    {
     "name": "stdout",
     "output_type": "stream",
     "text": [
      "You: Hi, I am Shorya\n",
      "AI: Hello Shorya! Nice to meet you.\n",
      "\n",
      "I'm an AI assistant. How can I help you today?\n",
      "\n",
      "You: Hmm, I am learning langgraph, using gemini as an LLM client, how can i add an systemt prompt to it?\n",
      "AI: That's a great question, and it's a common pattern when building agents with LangGraph!\n",
      "\n",
      "When using Gemini via LangChain (which LangGraph leverages), you add a system prompt by including a `SystemMessage` object at the beginning of the list of messages you pass to the LLM.\n",
      "\n",
      "Here's how you can do it within a LangGraph node:\n",
      "\n",
      "### Core Concept: The `SystemMessage`\n",
      "\n",
      "LangChain's message types (which Gemini understands) include:\n",
      "*   `HumanMessage`: For user input.\n",
      "*   `AIMessage`: For AI responses.\n",
      "*   `SystemMessage`: For instructions, persona, or context that guides the AI's behavior.\n",
      "\n",
      "You pass a list of these messages to your LLM. The `SystemMessage` should typically be the first message in the list.\n",
      "\n",
      "### Example Implementation\n",
      "\n",
      "Let's set up a simple LangGraph with a node that calls Gemini and adds a system prompt.\n",
      "\n",
      "First, make sure you have the necessary libraries installed:\n",
      "```bash\n",
      "pip install -U langgraph langchain_google_genai langchain\n",
      "```\n",
      "\n",
      "And set your Google API key:\n",
      "```python\n",
      "import os\n",
      "os.environ[\"GOOGLE_API_KEY\"] = \"YOUR_GEMINI_API_KEY\"\n",
      "```\n",
      "\n",
      "Now, the LangGraph code:\n",
      "\n",
      "```python\n",
      "from typing import TypedDict, List\n",
      "from langchain_core.messages import BaseMessage, HumanMessage, AIMessage, SystemMessage\n",
      "from langchain_google_genai import ChatGoogleGenerativeAI\n",
      "from langgraph.graph import StateGraph, END\n",
      "\n",
      "# 1. Define the Graph State\n",
      "# This defines what data will flow through your graph.\n",
      "# We need a list of messages to maintain conversation history.\n",
      "class AgentState(TypedDict):\n",
      "    messages: List[BaseMessage]\n",
      "\n",
      "# 2. Initialize your LLM\n",
      "llm = ChatGoogleGenerativeAI(model=\"gemini-pro\")\n",
      "\n",
      "# 3. Define the System Prompt\n",
      "# This is the instruction you want to give to Gemini.\n",
      "SYSTEM_PROMPT_TEXT = \"You are a helpful and very concise assistant. Always provide short answers, preferably one sentence.\"\n",
      "\n",
      "# 4. Define the LLM Node Function\n",
      "# This function will be a node in your LangGraph.\n",
      "# It takes the current state, adds the system prompt, calls the LLM, and returns the AI's response.\n",
      "def call_llm(state: AgentState) -> dict:\n",
      "    print(\"---CALLING LLM NODE---\")\n",
      "    messages = state['messages']\n",
      "\n",
      "    # Prepend the SystemMessage to the list of messages\n",
      "    # This is the key step!\n",
      "    messages_with_system_prompt = [SystemMessage(content=SYSTEM_PROMPT_TEXT)] + messages\n",
      "\n",
      "    # Invoke the LLM with the combined messages\n",
      "    response = llm.invoke(messages_with_system_prompt)\n",
      "\n",
      "    # Return the AI's response to update the state\n",
      "    return {\"messages\": [response]}\n",
      "\n",
      "# 5. Build the LangGraph\n",
      "workflow = StateGraph(AgentState)\n",
      "\n",
      "# Add the LLM node\n",
      "workflow.add_node(\"llm_node\", call_llm)\n",
      "\n",
      "# Set the entry point of the graph\n",
      "workflow.set_entry_point(\"llm_node\")\n",
      "\n",
      "# Define the edge from the LLM node to the end of the graph\n",
      "workflow.add_edge(\"llm_node\", END)\n",
      "\n",
      "# Compile the graph\n",
      "app = workflow.compile()\n",
      "\n",
      "# 6. Run the Graph\n",
      "print(\"\\n---RUN 1: Normal Question---\")\n",
      "inputs1 = {\"messages\": [HumanMessage(content=\"What is the capital of France?\")]}\n",
      "for s in app.stream(inputs1):\n",
      "    print(s)\n",
      "# Expected: \"Paris.\" (or similar concise answer due to system prompt)\n",
      "\n",
      "print(\"\\n---RUN 2: Question where conciseness matters---\")\n",
      "inputs2 = {\"messages\": [HumanMessage(content=\"Tell me about the history of the internet.\")]}\n",
      "for s in app.stream(inputs2):\n",
      "    print(s)\n",
      "# Expected: A very short summary, not a long paragraph, due to the system prompt.\n",
      "```\n",
      "\n",
      "### Explanation of the Key Part:\n",
      "\n",
      "```python\n",
      "    messages = state['messages']\n",
      "    # Prepend the SystemMessage to the list of messages\n",
      "    messages_with_system_prompt = [SystemMessage(content=SYSTEM_PROMPT_TEXT)] + messages\n",
      "    response = llm.invoke(messages_with_system_prompt)\n",
      "```\n",
      "\n",
      "1.  We retrieve the existing `messages` from the current `state`. These `messages` typically contain the `HumanMessage` from the user and any previous `AIMessage`s if it's a multi-turn conversation.\n",
      "2.  We create a `SystemMessage` instance using our defined `SYSTEM_PROMPT_TEXT`.\n",
      "3.  We then *prepend* this `SystemMessage` to the `messages` list using `[SystemMessage(...)] + messages`. This ensures the system instruction is the very first thing Gemini \"sees\" when processing the prompt.\n",
      "4.  Finally, `llm.invoke()` is called with this new list of messages, incorporating the system prompt.\n",
      "\n",
      "### Advanced Considerations:\n",
      "\n",
      "*   **Dynamic System Prompts:** If your system prompt needs to change based on the user's intent or previous turns, you could store the system prompt text in your `AgentState` and modify it with a preceding node.\n",
      "    ```python\n",
      "    class AgentState(TypedDict):\n",
      "        messages: List[BaseMessage]\n",
      "        system_prompt: str # Add this\n",
      "\n",
      "    # In your initial state:\n",
      "    initial_state = {\"messages\": [HumanMessage(content=\"What is the capital of France?\")], \"system_prompt\": \"You are a helpful assistant.\"}\n",
      "\n",
      "    # In your call_llm node:\n",
      "    def call_llm(state: AgentState) -> dict:\n",
      "        messages = state['messages']\n",
      "        current_system_prompt = state.get('system_prompt', \"You are a general AI assistant.\") # Fallback\n",
      "        messages_with_system_prompt = [SystemMessage(content=current_system_prompt)] + messages\n",
      "        # ... rest of the code\n",
      "    ```\n",
      "*   **Multiple LLM Nodes:** If you have different LLM nodes for different tasks within your graph, each can have its own specific system prompt tailored to its function.\n",
      "*   **LangChain Expression Language (LCEL):** For more complex prompt engineering (e.g., using `ChatPromptTemplate` with variables), you can compose your prompt chain using LCEL before passing it to the LLM. However, for just adding a static system prompt, the direct `SystemMessage` approach is often sufficient and clear.\n",
      "\n",
      "This method gives you precise control over the initial instructions given to your Gemini model within your LangGraph application.\n",
      "\n"
     ]
    }
   ],
   "source": [
    "user_input = input(\"Enter your message: \")\n",
    "\n",
    "while user_input.lower() != \"exit\":\n",
    "    conversation_history.append(HumanMessage(content=user_input))\n",
    "    \n",
    "    print(f\"You: {user_input}\")\n",
    "    response = agent.invoke({\"messages\":conversation_history})\n",
    "    \n",
    "    conversation_history = response['messages']\n",
    "    \n",
    "    user_input = input(\"Enter your message: \")"
   ]
  },
  {
   "cell_type": "code",
   "execution_count": 15,
   "id": "c7d15663",
   "metadata": {},
   "outputs": [],
   "source": [
    "with open(\"conversation_history.txt\", \"w\") as f:\n",
    "    for message in conversation_history:\n",
    "        if isinstance(message, HumanMessage):\n",
    "            f.write(f\"You: {message.content}\\n\")\n",
    "        elif isinstance(message, AIMessage):\n",
    "            f.write(f\"AI: {message.content}\\n\")"
   ]
  }
 ],
 "metadata": {
  "kernelspec": {
   "display_name": "langgraph",
   "language": "python",
   "name": "python3"
  },
  "language_info": {
   "codemirror_mode": {
    "name": "ipython",
    "version": 3
   },
   "file_extension": ".py",
   "mimetype": "text/x-python",
   "name": "python",
   "nbconvert_exporter": "python",
   "pygments_lexer": "ipython3",
   "version": "3.13.3"
  }
 },
 "nbformat": 4,
 "nbformat_minor": 5
}
