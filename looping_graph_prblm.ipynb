{
 "cells": [
  {
   "cell_type": "markdown",
   "id": "2cbaa45d",
   "metadata": {},
   "source": [
    "#### Guess the number 7"
   ]
  },
  {
   "cell_type": "code",
   "execution_count": 1,
   "id": "287b18bc",
   "metadata": {},
   "outputs": [],
   "source": [
    "from typing import TypedDict\n",
    "from langgraph.graph import StateGraph, START, END\n",
    "import numpy as np"
   ]
  },
  {
   "cell_type": "code",
   "execution_count": 24,
   "id": "79bade67",
   "metadata": {},
   "outputs": [],
   "source": [
    "class AgentState(TypedDict):\n",
    "  player_name: str\n",
    "  guesses: list[int]\n",
    "  attempts: int\n",
    "  lower_bound: int\n",
    "  upper_bound: int\n",
    "  target: int"
   ]
  },
  {
   "cell_type": "code",
   "execution_count": 40,
   "id": "44a2073f",
   "metadata": {},
   "outputs": [],
   "source": [
    "def setup_node(state: AgentState) -> AgentState:\n",
    "  \"\"\"Setup game configs\"\"\"\n",
    "  state['player_name'] = f\"Hi, {state['player_name']}\"\n",
    "  state['guesses'] = []\n",
    "  state['attempts'] = state['attempts']\n",
    "  state['lower_bound'] = state['lower_bound']\n",
    "  state['upper_bound'] = state['upper_bound']\n",
    "  state['target'] = state['target']\n",
    "  \n",
    "  return state\n",
    "\n",
    "def guess_node(state: AgentState) -> AgentState:\n",
    "  \"\"\"Function to guess a random number between the bounds\"\"\"\n",
    "  graph_guess = np.random.randint(state['lower_bound'],state['upper_bound'])\n",
    "  state['guesses'].append(graph_guess)\n",
    "  print(f\"Graph guess: {graph_guess}\")\n",
    "  \n",
    "  return state\n",
    "\n",
    "def hint_node(state: AgentState) -> AgentState:\n",
    "  state['attempts'] -= 1\n",
    "  \n",
    "  if state['attempts'] <= 0:\n",
    "    print(\"Exceeded max attempts. Ending.\")\n",
    "    return state\n",
    "  \n",
    "  if state['guesses'][-1] > state['target']:\n",
    "      state['upper_bound'] = state['guesses'][-1]\n",
    "  \n",
    "  elif state['guesses'][-1] < state['target']:\n",
    "      state['lower_bound'] = state['guesses'][-1]\n",
    "  \n",
    "  else:\n",
    "      print(\"Correct guess!\")\n",
    "  \n",
    "  return state\n",
    "\n",
    "def route(state: AgentState) -> str:\n",
    "  if state['attempts'] <= 0:\n",
    "    return \"stop\"\n",
    "  \n",
    "  if state['guesses'][-1]==state['target']:\n",
    "    return \"stop\"\n",
    "  else:\n",
    "    return \"continue\""
   ]
  },
  {
   "cell_type": "code",
   "execution_count": 41,
   "id": "18284529",
   "metadata": {},
   "outputs": [],
   "source": [
    "graph = StateGraph(state_schema=AgentState)\n",
    "\n",
    "graph.add_node(\"setup\",setup_node)\n",
    "graph.add_node(\"guess\",guess_node)\n",
    "graph.add_node(\"hint\",hint_node)\n",
    "\n",
    "graph.add_edge(START,\"setup\")\n",
    "graph.add_edge(\"setup\",\"guess\")\n",
    "graph.add_edge(\"guess\",\"hint\")\n",
    "\n",
    "graph.add_conditional_edges(\n",
    "  source=\"hint\",\n",
    "  path=route,\n",
    "  path_map={\n",
    "      \"continue\": \"guess\",\n",
    "      \"stop\": END\n",
    "  }\n",
    ")\n",
    "\n",
    "app = graph.compile()"
   ]
  },
  {
   "cell_type": "code",
   "execution_count": 42,
   "id": "ce58c126",
   "metadata": {},
   "outputs": [
    {
     "data": {
      "image/png": "[encoded data removed]",
      "text/plain": [
       "<langgraph.graph.state.CompiledStateGraph object at 0x0000029A21BC3750>"
      ]
     },
     "execution_count": 42,
     "metadata": {},
     "output_type": "execute_result"
    }
   ],
   "source": [
    "app"
   ]
  },
  {
   "cell_type": "code",
   "execution_count": null,
   "id": "bf1ca3be",
   "metadata": {},
   "outputs": [],
   "source": [
    "initial_state = {\n",
    "    \"player_name\": \"tirth\",\n",
    "    \"guesses\": [],\n",
    "    \"attempts\": 10,\n",
    "    \"lower_bound\": 1,\n",
    "    \"upper_bound\": 1000,\n",
    "    \"target\": 69\n",
    "}\n"
   ]
  },
  {
   "cell_type": "code",
   "execution_count": 46,
   "id": "f0c600ca",
   "metadata": {},
   "outputs": [
    {
     "name": "stdout",
     "output_type": "stream",
     "text": [
      "Graph guess: 365\n",
      "Graph guess: 220\n",
      "Graph guess: 43\n",
      "Graph guess: 122\n",
      "Graph guess: 71\n",
      "Graph guess: 64\n",
      "Graph guess: 70\n",
      "Graph guess: 69\n",
      "Correct guess!\n"
     ]
    }
   ],
   "source": [
    "result = app.invoke(initial_state)"
   ]
  },
  {
   "cell_type": "code",
   "execution_count": null,
   "id": "1e65414e",
   "metadata": {},
   "outputs": [],
   "source": []
  },
  {
   "cell_type": "code",
   "execution_count": null,
   "id": "a186f5ee",
   "metadata": {},
   "outputs": [],
   "source": []
  }
 ],
 "metadata": {
  "kernelspec": {
   "display_name": "langgraph",
   "language": "python",
   "name": "python3"
  },
  "language_info": {
   "codemirror_mode": {
    "name": "ipython",
    "version": 3
   },
   "file_extension": ".py",
   "mimetype": "text/x-python",
   "name": "python",
   "nbconvert_exporter": "python",
   "pygments_lexer": "ipython3",
   "version": "3.13.3"
  }
 },
 "nbformat": 4,
 "nbformat_minor": 5
}
