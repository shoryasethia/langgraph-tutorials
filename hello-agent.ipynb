{
 "cells": [
  {
   "cell_type": "code",
   "execution_count": 1,
   "id": "26f131de",
   "metadata": {},
   "outputs": [
    {
     "name": "stderr",
     "output_type": "stream",
     "text": [
      "c:\\Users\\shory\\anaconda3\\envs\\langgraph\\Lib\\site-packages\\tqdm\\auto.py:21: TqdmWarning: IProgress not found. Please update jupyter and ipywidgets. See https://ipywidgets.readthedocs.io/en/stable/user_install.html\n",
      "  from .autonotebook import tqdm as notebook_tqdm\n"
     ]
    },
    {
     "data": {
      "text/plain": [
       "True"
      ]
     },
     "execution_count": 1,
     "metadata": {},
     "output_type": "execute_result"
    }
   ],
   "source": [
    "import os\n",
    "import google.generativeai as genai\n",
    "from dotenv import load_dotenv\n",
    "\n",
    "load_dotenv()"
   ]
  },
  {
   "cell_type": "code",
   "execution_count": 2,
   "id": "a5e8fdaf",
   "metadata": {},
   "outputs": [],
   "source": [
    "genai.configure(api_key=os.environ[\"GOOGLE_API_KEY\"])"
   ]
  },
  {
   "cell_type": "code",
   "execution_count": 3,
   "id": "8edb7df7",
   "metadata": {},
   "outputs": [],
   "source": [
    "from langchain.llms.base import LLM\n",
    "\n",
    "class GeminiLLM(LLM):\n",
    "    model: str = \"gemini-2.5-flash-preview-05-20\"\n",
    "\n",
    "    def _call(self, prompt: str, stop: list[str] | None = None) -> str:\n",
    "        response = genai.GenerativeModel(self.model).generate_content(prompt)\n",
    "        return response.text.strip()\n",
    "\n",
    "    def invoke(self, input: str, **kwargs) -> str:\n",
    "        return self._call(input)\n",
    "\n",
    "    @property\n",
    "    def _llm_type(self) -> str:\n",
    "        return \"gemini-llm\"\n"
   ]
  },
  {
   "cell_type": "code",
   "execution_count": null,
   "id": "0c41f1a8",
   "metadata": {},
   "outputs": [],
   "source": [
    "from langgraph.graph import StateGraph, END\n",
    "from typing import TypedDict\n",
    "\n",
    "class AgentState(TypedDict):\n",
    "    input: str\n",
    "    output: str\n",
    "\n",
    "# Define node logic\n",
    "def gemini_node(state: AgentState) -> AgentState:\n",
    "    prompt = state['input']\n",
    "    llm = GeminiLLM()\n",
    "    state['output'] = llm.invoke(prompt)\n",
    "    return state\n"
   ]
  },
  {
   "cell_type": "code",
   "execution_count": 5,
   "id": "badb6853",
   "metadata": {},
   "outputs": [],
   "source": [
    "# Build graph\n",
    "graph = StateGraph(AgentState)\n",
    "graph.add_node(\"gemini\", gemini_node)\n",
    "graph.set_entry_point(\"gemini\")\n",
    "graph.set_finish_point(\"gemini\")\n",
    "app = graph.compile()"
   ]
  },
  {
   "cell_type": "code",
   "execution_count": 6,
   "id": "ea3c953c",
   "metadata": {},
   "outputs": [
    {
     "data": {
      "image/png": "[encoded data removed]",
      "text/plain": [
       "<langgraph.graph.state.CompiledStateGraph object at 0x000001EDCFAE4590>"
      ]
     },
     "execution_count": 6,
     "metadata": {},
     "output_type": "execute_result"
    }
   ],
   "source": [
    "app"
   ]
  },
  {
   "cell_type": "code",
   "execution_count": 7,
   "id": "b1b3afae",
   "metadata": {},
   "outputs": [
    {
     "name": "stdout",
     "output_type": "stream",
     "text": [
      "As of early 2024, the current Prime Minister of India is **Narendra Modi**.\n",
      "\n",
      "However, the next Indian general election is scheduled to take place in **April-May 2024**. The Prime Minister for 2025 will be determined by the results of that election.\n",
      "\n",
      "If the Bharatiya Janata Party (BJP) led by Narendra Modi wins a majority, he would continue as PM. If another party or coalition wins, their leader would become the new Prime Minister.\n"
     ]
    }
   ],
   "source": [
    "# Run the agent\n",
    "response = app.invoke({\n",
    "  \"input\": \"Who is the PM of India in 2025?\",\n",
    "  \"output\":\"\"\n",
    "  })\n",
    "print(response[\"output\"])"
   ]
  },
  {
   "cell_type": "code",
   "execution_count": null,
   "id": "183a1c1a",
   "metadata": {},
   "outputs": [],
   "source": []
  }
 ],
 "metadata": {
  "kernelspec": {
   "display_name": "langgraph",
   "language": "python",
   "name": "python3"
  },
  "language_info": {
   "codemirror_mode": {
    "name": "ipython",
    "version": 3
   },
   "file_extension": ".py",
   "mimetype": "text/x-python",
   "name": "python",
   "nbconvert_exporter": "python",
   "pygments_lexer": "ipython3",
   "version": "3.13.3"
  }
 },
 "nbformat": 4,
 "nbformat_minor": 5
}
