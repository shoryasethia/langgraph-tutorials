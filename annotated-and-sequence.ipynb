{
 "cells": [
  {
   "cell_type": "code",
   "execution_count": 1,
   "id": "07ded5a3",
   "metadata": {},
   "outputs": [],
   "source": [
    "from typing import Annotated"
   ]
  },
  {
   "cell_type": "code",
   "execution_count": 2,
   "id": "2cde0781",
   "metadata": {},
   "outputs": [],
   "source": [
    "# Suppose we have a TypedDict that also has one parameter as email.\n",
    "# We want to make sure that the email is a valid email address.\n",
    "# Like it shouldn't be empty, and it should contain '@' and '.' etc rules.\n",
    "\n",
    "email = Annotated[str, \"Must be a valid email address\"]"
   ]
  },
  {
   "cell_type": "code",
   "execution_count": 3,
   "id": "db59bf74",
   "metadata": {},
   "outputs": [
    {
     "name": "stdout",
     "output_type": "stream",
     "text": [
      "('Must be a valid email address',)\n"
     ]
    }
   ],
   "source": [
    "print(email.__metadata__)"
   ]
  },
  {
   "cell_type": "code",
   "execution_count": null,
   "id": "e468422a",
   "metadata": {},
   "outputs": [
    {
     "name": "stdout",
     "output_type": "stream",
     "text": [
      "('Must be a list of valid email addresses',)\n"
     ]
    }
   ],
   "source": [
    "from typing import Sequence\n",
    "\n",
    "# Suppose we have a TypedDict that also has one parameter as a list of emails.\n",
    "emails = Annotated[Sequence[str], \"Must be a list of valid email addresses\"]\n",
    "print(emails.__metadata__)"
   ]
  },
  {
   "cell_type": "markdown",
   "id": "a0a18788",
   "metadata": {},
   "source": [
    "In **LangGraph**, a **reducer** is used to **accumulate or merge message history** during state transitions. This is particularly useful in scenarios where you want to manage how messages are stored and processed in your graph.\n",
    "\n",
    "\n",
    "```python\n",
    "from langgraph.graph.message import add_messages\n",
    "```\n",
    "\n",
    "This is passed like:\n",
    "\n",
    "```python\n",
    "messages: Annotated[Sequence[BaseMessage], add_messages]\n",
    "```\n",
    "\n",
    "So now you're wondering: **Are there other reducers? What do they do? Can I write my own?**\n",
    "\n",
    "---\n",
    "\n",
    "## ✅ Built-in Reducers in LangGraph (as of mid-2024)\n",
    "\n",
    "LangGraph provides a few **standard reducers** in `langgraph.graph.message`. The main ones include:\n",
    "\n",
    "### 1. `add_messages`\n",
    "\n",
    "* 🔧 **Most commonly used reducer**\n",
    "* 📌 It **appends** new messages to the current list\n",
    "* Used when you want to **preserve all history**\n",
    "\n",
    "```python\n",
    "from langgraph.graph.message import add_messages\n",
    "```\n",
    "\n",
    "Usage:\n",
    "\n",
    "```python\n",
    "messages: Annotated[Sequence[BaseMessage], add_messages]\n",
    "```\n",
    "\n",
    "---\n",
    "\n",
    "### 2. `replace_messages`\n",
    "\n",
    "* 🔁 Replaces the old message history with the new one\n",
    "* Use this when you **only want to keep the latest message(s)**\n",
    "\n",
    "```python\n",
    "from langgraph.graph.message import replace_messages\n",
    "```\n",
    "\n",
    "Usage:\n",
    "\n",
    "```python\n",
    "messages: Annotated[Sequence[BaseMessage], replace_messages]\n",
    "```\n",
    "\n",
    "This is useful for **stateless agents** or memory-trimmed versions.\n",
    "\n",
    "---\n",
    "\n",
    "### 3. `collect_messages`\n",
    "\n",
    "* 🧠 Returns a **list of lists**, tracking messages **at each step** (a message trace)\n",
    "* Useful for debugging, auditing, or visualizing how the conversation evolved\n",
    "\n",
    "```python\n",
    "from langgraph.graph.message import collect_messages\n",
    "```\n",
    "\n",
    "Usage:\n",
    "\n",
    "```python\n",
    "messages: Annotated[list[list[BaseMessage]], collect_messages]\n",
    "```\n",
    "\n",
    "---\n",
    "\n",
    "### 4. (Bonus) Write your own custom reducer 🛠️\n",
    "\n",
    "You can define your own function with this signature:\n",
    "\n",
    "```python\n",
    "def my_reducer(prev_messages, new_messages) -> combined_messages:\n",
    "    # Your logic here\n",
    "    return updated_message_list\n",
    "```\n",
    "\n",
    "Then pass it in `Annotated`:\n",
    "\n",
    "```python\n",
    "messages: Annotated[list[BaseMessage], my_reducer]\n",
    "```\n",
    "\n",
    "### Example: Keep only last 2 user+AI messages\n",
    "\n",
    "```python\n",
    "def keep_last_two(prev, new):\n",
    "    combined = prev + new\n",
    "    return combined[-4:]  # each message round has user+AI\n",
    "```\n",
    "\n",
    "---\n",
    "\n",
    "## 🧠 Summary Table\n",
    "\n",
    "| Reducer            | What it does                   | Use Case                             |\n",
    "| ------------------ | ------------------------------ | ------------------------------------ |\n",
    "| `add_messages`     | Appends all new messages       | Full memory (ReAct style)            |\n",
    "| `replace_messages` | Overwrites previous            | Stateless or windowed agent          |\n",
    "| `collect_messages` | Tracks message lists over time | Auditing, visualization              |\n",
    "| `custom`           | You define the logic           | Anything you want: trim, filter, etc |\n",
    "\n"
   ]
  },
  {
   "cell_type": "markdown",
   "id": "dd7ad447",
   "metadata": {},
   "source": []
  }
 ],
 "metadata": {
  "kernelspec": {
   "display_name": "langgraph",
   "language": "python",
   "name": "python3"
  },
  "language_info": {
   "codemirror_mode": {
    "name": "ipython",
    "version": 3
   },
   "file_extension": ".py",
   "mimetype": "text/x-python",
   "name": "python",
   "nbconvert_exporter": "python",
   "pygments_lexer": "ipython3",
   "version": "3.13.3"
  }
 },
 "nbformat": 4,
 "nbformat_minor": 5
}
