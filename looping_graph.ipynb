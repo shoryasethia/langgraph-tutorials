{
 "cells": [
  {
   "cell_type": "code",
   "execution_count": 14,
   "id": "c656635c",
   "metadata": {},
   "outputs": [],
   "source": [
    "from typing import TypedDict\n",
    "from langgraph.graph import StateGraph, START, END\n",
    "import numpy as np"
   ]
  },
  {
   "cell_type": "code",
   "execution_count": null,
   "id": "a21b10f0",
   "metadata": {},
   "outputs": [],
   "source": [
    "class AgentState(TypedDict):\n",
    "  name: str\n",
    "  numbers: list[int]\n",
    "  counter: int"
   ]
  },
  {
   "cell_type": "code",
   "execution_count": 25,
   "id": "9a2fbcdf",
   "metadata": {},
   "outputs": [],
   "source": [
    "def greeting_node(state: AgentState) -> AgentState:\n",
    "  \"\"\"Function to greet the user\"\"\"\n",
    "  state['name'] = f\"Hi, {state['name']}\"\n",
    "  state['counter'] = 0\n",
    "  \n",
    "  return state\n",
    "\n",
    "def random_node(state: AgentState) -> AgentState:\n",
    "  \"\"\"Function to generate random numbers from 0 to 10\"\"\"\n",
    "  state['numbers'].append(np.random.randint(0,10))\n",
    "  state['counter'] = state['counter'] + 1\n",
    "  \n",
    "  return state\n",
    "\n",
    "def shouldContinue(state: AgentState) -> str:\n",
    "  \"\"\"Function to decide wether to loop or not\"\"\"\n",
    "  if state['counter'] < 5:\n",
    "    return \"loop\"\n",
    "  else:\n",
    "    return \"stop_loop\""
   ]
  },
  {
   "cell_type": "code",
   "execution_count": 29,
   "id": "69624b63",
   "metadata": {},
   "outputs": [],
   "source": [
    "graph = StateGraph(state_schema=AgentState)\n",
    "\n",
    "graph.add_node(\"greeter\",greeting_node)\n",
    "graph.add_node(\"random\",random_node)\n",
    "\n",
    "graph.add_edge(\"greeter\",\"random\")\n",
    "\n",
    "graph.add_conditional_edges(\n",
    "  source=\"random\",\n",
    "  path=shouldContinue,\n",
    "  path_map={\n",
    "    \"loop\": \"random\",\n",
    "    \"stop_loop\": END\n",
    "  }\n",
    ")\n",
    "\n",
    "graph.set_entry_point(\"greeter\")\n",
    "\n",
    "app = graph.compile()"
   ]
  },
  {
   "cell_type": "code",
   "execution_count": 30,
   "id": "9e0e5050",
   "metadata": {},
   "outputs": [
    {
     "data": {
      "image/png": "[encoded data removed]",
      "text/plain": [
       "<langgraph.graph.state.CompiledStateGraph object at 0x000001FB00232990>"
      ]
     },
     "execution_count": 30,
     "metadata": {},
     "output_type": "execute_result"
    }
   ],
   "source": [
    "app"
   ]
  },
  {
   "cell_type": "code",
   "execution_count": 33,
   "id": "e8a3234f",
   "metadata": {},
   "outputs": [],
   "source": [
    "result = app.invoke({\n",
    "  \"name\": \"Shorya\",\n",
    "  \"numbers\": [],\n",
    "  \"counter\": -1\n",
    "})"
   ]
  },
  {
   "cell_type": "code",
   "execution_count": 34,
   "id": "660581db",
   "metadata": {},
   "outputs": [
    {
     "data": {
      "text/plain": [
       "{'name': 'Hi, Shorya', 'numbers': [5, 0, 6, 7, 5], 'counter': 5}"
      ]
     },
     "execution_count": 34,
     "metadata": {},
     "output_type": "execute_result"
    }
   ],
   "source": [
    "result"
   ]
  },
  {
   "cell_type": "code",
   "execution_count": null,
   "id": "727b082b",
   "metadata": {},
   "outputs": [],
   "source": []
  }
 ],
 "metadata": {
  "kernelspec": {
   "display_name": "langgraph",
   "language": "python",
   "name": "python3"
  },
  "language_info": {
   "codemirror_mode": {
    "name": "ipython",
    "version": 3
   },
   "file_extension": ".py",
   "mimetype": "text/x-python",
   "name": "python",
   "nbconvert_exporter": "python",
   "pygments_lexer": "ipython3",
   "version": "3.13.3"
  }
 },
 "nbformat": 4,
 "nbformat_minor": 5
}
